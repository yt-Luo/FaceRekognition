{
 "cells": [
  {
   "cell_type": "code",
   "execution_count": 11,
   "metadata": {},
   "outputs": [],
   "source": [
    "# 輸入資料\n",
    "import csv\n",
    "import os\n",
    "def load_csv(file_name, path = ''):\n",
    "    #if not os.path.isdir(path):\n",
    "    #    os.makedirs(path)\n",
    "    data = [] # 建立一個空串列，準備存放 .csv 的每一個橫列(Row)的內容\n",
    "    with open(path + file_name, 'r', newline = '', encoding = 'big5') as csvfile:\n",
    "    \n",
    "        # 讀取 CSV 檔內容，將每一列轉成一個 dictionary\n",
    "        plots = csv.DictReader(csvfile, delimiter = ',')\n",
    "    \n",
    "        # 我們使用以 csv.DictReader 來讀取 CSV 檔案的內容，它會自動把第一列（row）當作欄位的名稱，\n",
    "        # 將第二列以後的每一列轉為 dictionary，這樣我們就可以使用欄位的名稱來存取資料。\n",
    "        # 以迴圈輸出指定欄位到member\n",
    "        #i = 0\n",
    "        for row in plots:\n",
    "            data.append(row)\n",
    "            #i+=1\n",
    "    return data\n",
    "member = load_csv('./data/member_origin.csv')\n",
    "course = load_csv('./data/course.csv')"
   ]
  },
  {
   "cell_type": "code",
   "execution_count": null,
   "metadata": {},
   "outputs": [],
   "source": [
    "id = 1\n",
    "no = 1\n",
    "member[id-1]['course'][no-1]"
   ]
  },
  {
   "cell_type": "code",
   "execution_count": null,
   "metadata": {},
   "outputs": [],
   "source": [
    "m = len(member)\n",
    "c = 120\n",
    "for i in range(m):\n",
    "    member[i]['course']=[]\n",
    "    for j in range(c):\n",
    "        member[i]['course'].append({'class':str(j+1),'sign_in_time':'','timestamp_in':'', 'sign_out_time':'','timestamp_out':'','status':'', 'accumulated_class_hours':''})\n"
   ]
  },
  {
   "cell_type": "code",
   "execution_count": null,
   "metadata": {},
   "outputs": [],
   "source": [
    "# data輸出成csv\n",
    "import csv \n",
    "def output_csv(datalst, output_filename):\n",
    "    # 定義欄位\n",
    "    csv_columns = datalst[0].keys()\n",
    "    dict_data = datalst\n",
    "    csv_file = output_filename +\".csv\"\n",
    "    try:\n",
    "        with open(csv_file, 'w', newline='') as csvfile:\n",
    "            writer = csv.DictWriter(csvfile, fieldnames=csv_columns) # 將 dictionary 寫入 CSV 檔\n",
    "            writer.writeheader() # 寫入第一列的欄位名稱\n",
    "            for data in dict_data:  # 寫入資料\n",
    "                writer.writerow(data)\n",
    "    except IOError:\n",
    "        print(\"I/O error\")\n",
    "output_csv(member, 'member-1')"
   ]
  },
  {
   "cell_type": "code",
   "execution_count": null,
   "metadata": {},
   "outputs": [],
   "source": [
    "# 輸出當天簽到表.csv\n",
    "import csv \n",
    "def attendance_form_csv(datalst, output_filename):\n",
    "    # 定義欄位\n",
    "    csv_columns = ['編號', '姓名', '簽到時間', '簽退時間']\n",
    "    dict_data = datalst['no.', 'name', 'sign_in_time','sign_out_time']\n",
    "    csv_file = output_filename +\".csv\"\n",
    "    try:\n",
    "        with open(csv_file, 'w', newline='', encoding = 'utf-8-sig') as csvfile:\n",
    "            writer = csv.DictWriter(csvfile, fieldnames=csv_columns) # 將 dictionary 寫入 CSV 檔\n",
    "            writer.writeheader() # 寫入第一列的欄位名稱\n",
    "            for data in dict_data:  # 寫入資料\n",
    "                writer.writerow(data)\n",
    "    except IOError:\n",
    "        print(\"I/O error\")\n",
    "output_csv(member, 'member__')"
   ]
  },
  {
   "cell_type": "code",
   "execution_count": null,
   "metadata": {},
   "outputs": [],
   "source": [
    "def class_info(n=0):\n",
    "    print(\"課程名稱: %s\"%(course[n-1]['class']))\n",
    "    print(\"上課時間: %s %s至%s\"%(course[n-1]['school_day'],course[n-1]['class_time'],course[n-1]['break_time']))\n",
    "    print(\"授課教師: %s\"%(course[n-1]['instructor']))\n",
    "#class_info(no_C)"
   ]
  },
  {
   "cell_type": "code",
   "execution_count": 12,
   "metadata": {},
   "outputs": [],
   "source": [
    "import json\n",
    "def output_json(dict, filename):\n",
    "    with open(\"{}.json\".format(filename), 'w', encoding='utf-8') as f:\n",
    "        json.dump(dict, f)\n",
    "    #json.dump(dict, open(\"{}.json\".format(filename), \"w\", encoding = 'utf-8'))\n",
    "#output_json(member, 'member-11')\n",
    "output_json(course, 'course')"
   ]
  },
  {
   "cell_type": "code",
   "execution_count": 7,
   "metadata": {},
   "outputs": [],
   "source": [
    "import json\n",
    "def load_json(filename):\n",
    "    with open(\"{}.json\".format(filename), encoding = 'utf-8') as file:\n",
    "        data = json.load(file)\n",
    "    return data\n",
    "\n",
    "member = load_json('./data/member')\n",
    "#m"
   ]
  },
  {
   "cell_type": "code",
   "execution_count": 9,
   "metadata": {},
   "outputs": [
    {
     "data": {
      "text/plain": [
       "''"
      ]
     },
     "execution_count": 9,
     "metadata": {},
     "output_type": "execute_result"
    }
   ],
   "source": [
    "id = 1\n",
    "no = 1\n",
    "member[id-1]['course'][no-1]['sign_in_time']"
   ]
  },
  {
   "cell_type": "code",
   "execution_count": null,
   "metadata": {},
   "outputs": [],
   "source": [
    "class_no = 1\n",
    "member[0]['course'][class_no]"
   ]
  },
  {
   "cell_type": "code",
   "execution_count": null,
   "metadata": {},
   "outputs": [],
   "source": [
    "import time\n",
    "def get_week_day(timestamp):\n",
    "    struct_time = time.localtime(timestamp)\n",
    "    x = struct_time.tm_wday\n",
    "    week_day_dict = {\n",
    "        0 : '一',\n",
    "        1 : '二',\n",
    "        2 : '三',\n",
    "        3 : '四',\n",
    "        4 : '五',\n",
    "        5 : '六',\n",
    "        6 : '日',\n",
    "    }\n",
    "    return week_day_dict[x]\n",
    "#timestamp = time.time()\n",
    "get_week_day(timestamp)"
   ]
  },
  {
   "cell_type": "code",
   "execution_count": null,
   "metadata": {},
   "outputs": [],
   "source": [
    "import datetime\n",
    "id = 1\n",
    "no_C = 1\n",
    "state = '簽到'\n",
    "now = datetime.datetime.now()\n",
    "member[id-1]['course'][no_C-1]['Sign in time'] = now.strftime(\"%Y-%m-%d %H:%M:%S\")"
   ]
  },
  {
   "cell_type": "code",
   "execution_count": null,
   "metadata": {},
   "outputs": [],
   "source": [
    "member"
   ]
  },
  {
   "cell_type": "code",
   "execution_count": null,
   "metadata": {},
   "outputs": [],
   "source": [
    "state = '簽退'\n",
    "now = datetime.datetime.now()\n",
    "member[id-1]['course'][no_C-1]['Sign out time'] = now.strftime(\"%Y-%m-%d %H:%M:%S\")"
   ]
  },
  {
   "cell_type": "code",
   "execution_count": null,
   "metadata": {},
   "outputs": [],
   "source": [
    "# 時間格式(字串)改成時間戳\n",
    "import time # 引入time\n",
    "timeString = \"2020-12-20 21:15:00\" # 時間格式為字串\n",
    "struct_time = time.strptime(timeString, \"%Y-%m-%d %H:%M:%S\") # 轉成時間元組\n",
    "time_stamp = int(time.mktime(struct_time)) # 轉成時間戳\n",
    "print(time_stamp)"
   ]
  },
  {
   "cell_type": "code",
   "execution_count": null,
   "metadata": {},
   "outputs": [],
   "source": [
    "# 時間戳改成時間格式(字串)\n",
    "import time # 引入time\n",
    "\n",
    "time_stamp = 1599678000 # 設定timeStamp\n",
    "struct_time = time.localtime(time_stamp) # 轉成時間元組\n",
    "timeString = time.strftime(\"%Y-%m-%d %H:%M:%S\", struct_time) # 轉成字串\n",
    "print(timeString)"
   ]
  },
  {
   "cell_type": "code",
   "execution_count": 3,
   "metadata": {},
   "outputs": [
    {
     "name": "stdout",
     "output_type": "stream",
     "text": [
      "94小時17分鐘15秒\n"
     ]
    }
   ],
   "source": [
    "import time\n",
    "import datetime\n",
    "\n",
    "timestamp = 1608470100   #int(course[1]['timestamp1'])\n",
    "struct_time = time.localtime(timestamp)\n",
    "x = datetime.datetime.fromtimestamp(timestamp)  #根據給定的時間戮，返回一個datetime物件\n",
    "struct_time\n",
    "\n",
    "now = datetime.datetime.now()\n",
    "hours, remainder = divmod((now-x).total_seconds(), 3600)\n",
    "minutes, seconds = divmod(remainder, 60)\n",
    "\n",
    "# Formatted only for hours and minutes as requested\n",
    "print ('%d小時%d分鐘%d秒' % (hours, minutes, seconds))"
   ]
  },
  {
   "cell_type": "code",
   "execution_count": 5,
   "metadata": {},
   "outputs": [
    {
     "data": {
      "text/plain": [
       "'1970-01-05(Mon) 06:22:00'"
      ]
     },
     "execution_count": 5,
     "metadata": {},
     "output_type": "execute_result"
    }
   ],
   "source": [
    "timeString = time.strftime(\"%Y-%m-%d(%a) %H:%M:%S\", struct_time)\n",
    "timeString"
   ]
  },
  {
   "cell_type": "code",
   "execution_count": 1,
   "metadata": {},
   "outputs": [
    {
     "ename": "NameError",
     "evalue": "name 'now' is not defined",
     "output_type": "error",
     "traceback": [
      "\u001b[1;31m---------------------------------------------------------------------------\u001b[0m",
      "\u001b[1;31mNameError\u001b[0m                                 Traceback (most recent call last)",
      "\u001b[1;32m<ipython-input-1-1d4ffc7856f7>\u001b[0m in \u001b[0;36m<module>\u001b[1;34m\u001b[0m\n\u001b[1;32m----> 1\u001b[1;33m \u001b[1;33m(\u001b[0m\u001b[0mnow\u001b[0m\u001b[1;33m-\u001b[0m\u001b[0mx\u001b[0m\u001b[1;33m)\u001b[0m\u001b[1;33m.\u001b[0m\u001b[0mtotal_seconds\u001b[0m\u001b[1;33m(\u001b[0m\u001b[1;33m)\u001b[0m\u001b[1;33m\u001b[0m\u001b[1;33m\u001b[0m\u001b[0m\n\u001b[0m",
      "\u001b[1;31mNameError\u001b[0m: name 'now' is not defined"
     ]
    }
   ],
   "source": [
    "(now-x).total_seconds()"
   ]
  },
  {
   "cell_type": "code",
   "execution_count": 4,
   "metadata": {},
   "outputs": [
    {
     "name": "stdout",
     "output_type": "stream",
     "text": [
      "22:00\n"
     ]
    }
   ],
   "source": [
    "import datetime\n",
    "now = datetime.datetime.now()\n",
    "a = (now-x).total_seconds()\n",
    "time_stamp = a # 設定timeStamp\n",
    "struct_time = time.localtime(time_stamp) # 轉成時間元組\n",
    "timeString = time.strftime(\"%M:%S\", struct_time) # 轉成字串\n",
    "print(timeString)\n"
   ]
  }
 ],
 "metadata": {
  "kernelspec": {
   "display_name": "Python 3",
   "language": "python",
   "name": "python3"
  },
  "language_info": {
   "codemirror_mode": {
    "name": "ipython",
    "version": 3
   },
   "file_extension": ".py",
   "mimetype": "text/x-python",
   "name": "python",
   "nbconvert_exporter": "python",
   "pygments_lexer": "ipython3",
   "version": "3.8.3"
  }
 },
 "nbformat": 4,
 "nbformat_minor": 4
}
